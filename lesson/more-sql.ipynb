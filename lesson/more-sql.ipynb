{
 "cells": [
  {
   "cell_type": "markdown",
   "metadata": {},
   "source": [
    "[![General Assembly Logo](https://camo.githubusercontent.com/1a91b05b8f4d44b5bbfb83abac2b0996d8e26c92/687474703a2f2f692e696d6775722e636f6d2f6b6538555354712e706e67)](https://generalassemb.ly/education/web-development-immersive)\n",
    "![Misk Logo](https://i.ibb.co/KmXhJbm/Webp-net-resizeimage-1.png)\n",
    "\n",
    "*Instructor: Marcus Lim*"
   ]
  },
  {
   "cell_type": "markdown",
   "metadata": {},
   "source": [
    "# More SQL\n",
    "\n",
    "## Learning Objectives\n",
    "\n",
    "### Core\n",
    "\n",
    "* Perform simple database-level queries, including:\n",
    "    * Creating tables with `CREATE TABLE`\n",
    "    * Modifying tables with `ALTER TABLE`\n",
    "* Perform simple table-level write queries, including:\n",
    "    * Inserting data with `INSERT INTO`\n",
    "    * Modifying data with `UPDATE`\n",
    "    * Removing data with `DELETE FROM`\n",
    "\n",
    "### Target\n",
    "\n",
    "* Distinguish SQL and NoSQL databases\n",
    "* Identify examples of NoSQL databases, such as MongoDB and Cassandra\n",
    "* Understand the tradeoffs between SQL and NoSQL databases"
   ]
  },
  {
   "cell_type": "code",
   "execution_count": 2,
   "metadata": {},
   "outputs": [],
   "source": [
    "import sqlite3\n",
    "import pandas as pd"
   ]
  },
  {
   "cell_type": "markdown",
   "metadata": {},
   "source": [
    "### Creating tables\n",
    "\n",
    "Tables can be created with the `CREATE TABLE` clause, which has this format:\n",
    "\n",
    "```sql\n",
    "CREATE TABLE <table_name> (\n",
    "    <column_name> <column_type> <column_constraint>\n",
    "    <column_name> <column_type> <column_constraint>\n",
    "    ...\n",
    "    <table_constraints>\n",
    ")\n",
    "```\n",
    "\n",
    "For example, the `titanic` table was created in this way:\n",
    "\n",
    "```sql\n",
    "CREATE TABLE \"titanic\" (\n",
    "  \"passengerid\" INTEGER,\n",
    "  \"survived\" INTEGER,\n",
    "  \"pclass\" INTEGER,\n",
    "  \"name\" TEXT,\n",
    "  \"sex\" TEXT,\n",
    "  \"age\" REAL,\n",
    "  \"sibsp\" INTEGER,\n",
    "  \"parch\" INTEGER,\n",
    "  \"ticket\" TEXT,\n",
    "  \"fare\" REAL,\n",
    "  \"cabin\" TEXT,\n",
    "  \"embarked\" TEXT\n",
    ")\n",
    "```\n",
    "\n",
    "A \"column constraint\" is a restriction on a column that goes beyond data type. For example, if you wanted to specify that the `fare` column cannot be null, you would use `\"fare\" REAL NOT NULL` above. Some other possible constraints:\n",
    "\n",
    "* `DEFAULT` - sets a default value\n",
    "* `UNIQUE` - enforces uniqueness on the values of this column\n",
    "* `PRIMARY KEY` - enforceness uniqueness and makes it more efficient to filter on this column; a table can have only one primary key."
   ]
  },
  {
   "cell_type": "code",
   "execution_count": 3,
   "metadata": {},
   "outputs": [],
   "source": [
    "conn = sqlite3.connect('titanic_sqlite3')"
   ]
  },
  {
   "cell_type": "markdown",
   "metadata": {},
   "source": [
    "### Modifying tables\n",
    "\n",
    "You can also change a table's schema with `ALTER TABLE`. The two most common clauses are `ADD` and `DROP COLUMN`. So, for example, if you wanted to add a column to the `titanic` table named `height` of type `INTEGER`, you could execute this:\n",
    "\n",
    "```sql\n",
    "ALTER TABLE titanic\n",
    "ADD height INTEGER\n",
    "```"
   ]
  },
  {
   "cell_type": "markdown",
   "metadata": {},
   "source": [
    "### Inserting data\n",
    "\n",
    "You can insert a row into a table with `INSERT INTO`, which has the following format:\n",
    "\n",
    "```sql\n",
    "INSERT INTO <table_name> (<column_name>, <column_name>, ...)\n",
    "VALUES (<value>, <value>, ...)\n",
    "```"
   ]
  },
  {
   "cell_type": "markdown",
   "metadata": {},
   "source": [
    "### Modifying and deleting data\n",
    "\n",
    "Data in a table can be modified with `UPDATE` and deleted with `DELETE FROM`. These commands are often somewhat tricky to use because if you don't add a filter with `WHERE`, by default they will act on the *whole* table!"
   ]
  }
 ],
 "metadata": {
  "kernelspec": {
   "display_name": "Python 3",
   "language": "python",
   "name": "python3"
  },
  "language_info": {
   "codemirror_mode": {
    "name": "ipython",
    "version": 3
   },
   "file_extension": ".py",
   "mimetype": "text/x-python",
   "name": "python",
   "nbconvert_exporter": "python",
   "pygments_lexer": "ipython3",
   "version": "3.7.4"
  }
 },
 "nbformat": 4,
 "nbformat_minor": 2
}
